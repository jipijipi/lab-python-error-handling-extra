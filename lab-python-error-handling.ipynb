{
 "cells": [
  {
   "cell_type": "markdown",
   "id": "25d7736c-ba17-4aff-b6bb-66eba20fbf4e",
   "metadata": {},
   "source": [
    "# Lab | Error Handling"
   ]
  },
  {
   "cell_type": "markdown",
   "id": "6f8e446f-16b4-4e21-92e7-9d3d1eb551b6",
   "metadata": {},
   "source": [
    "Objective: Practice how to identify, handle and recover from potential errors in Python code using try-except blocks."
   ]
  },
  {
   "cell_type": "markdown",
   "id": "e253e768-aed8-4791-a800-87add1204afa",
   "metadata": {},
   "source": [
    "## Challenge \n",
    "\n",
    "Paste here your lab *functions* solutions. Apply error handling techniques to each function using try-except blocks. "
   ]
  },
  {
   "cell_type": "markdown",
   "id": "9180ff86-c3fe-4152-a609-081a287fa1af",
   "metadata": {},
   "source": [
    "The try-except block in Python is designed to handle exceptions and provide a fallback mechanism when code encounters errors. By enclosing the code that could potentially throw errors in a try block, followed by specific or general exception handling in the except block, we can gracefully recover from errors and continue program execution.\n",
    "\n",
    "However, there may be cases where an input may not produce an immediate error, but still needs to be addressed. In such situations, it can be useful to explicitly raise an error using the \"raise\" keyword, either to draw attention to the issue or handle it elsewhere in the program.\n",
    "\n",
    "Modify the code to handle possible errors in Python, it is recommended to use `try-except-else-finally` blocks, incorporate the `raise` keyword where necessary, and print meaningful error messages to alert users of any issues that may occur during program execution.\n",
    "\n"
   ]
  },
  {
   "cell_type": "code",
   "execution_count": null,
   "id": "cc2c441d-9dcf-4817-b097-cf6cbe440846",
   "metadata": {},
   "outputs": [],
   "source": [
    "products = [\"t-shirt\", \"mug\", \"hat\", \"book\", \"keychain\"]\n",
    "\n",
    "def initialize_inventory(products):\n",
    "\n",
    "    inventory = {}\n",
    "    try:\n",
    "        for product in products:\n",
    "            inventory[product] = int(input(f\"How many {product}s are available? \"))\n",
    "    except ValueError:\n",
    "        print(\"Please enter a valid number\")\n",
    "        initialize_inventory(products)\n",
    "\n",
    "    return inventory\n",
    "\n",
    "def get_customers_order():\n",
    "\n",
    "    customers_orders = set()\n",
    "    is_order_complete = False\n",
    "\n",
    "    while not is_order_complete:\n",
    "\n",
    "        try :\n",
    "            order = input(f\"What would you like to order from {products} \")\n",
    "        except ValueError:\n",
    "            print(\"Please enter a valid product\")\n",
    "            continue\n",
    "\n",
    "        if order in products:\n",
    "            customers_orders.add(order)\n",
    "        \n",
    "        else:\n",
    "            print(f\"Sorry, we don't have {order}s\")\n",
    "        \n",
    "        additional_order = input(\"Would you like to order more items? (yes/no) \").lower()\n",
    "\n",
    "        if additional_order == \"no\".lower():\n",
    "            is_order_complete = True\n",
    "\n",
    "    return customers_orders\n",
    "\n",
    "def update_inventory(inventory, customers_orders):\n",
    "    try:\n",
    "        for product in customers_orders:\n",
    "            inventory[product] -= 1\n",
    "    except KeyError:\n",
    "        print(\"Sorry, we don't have that product\")\n",
    "        customers_orders.remove(product)\n",
    "        update_inventory(inventory, customers_orders)\n",
    "\n",
    "    return inventory\n",
    "\n",
    "def calculate_order_statistics(products, customers_orders):\n",
    "\n",
    "    total_products_available = len(products)\n",
    "    total_products_ordered = len(customers_orders)\n",
    "    percentage_ordered = (total_products_ordered / total_products_available) * 100\n",
    "    order_status = (total_products_ordered, percentage_ordered)\n",
    "\n",
    "    return order_status\n",
    "    \n",
    "def print_order_statistics(order_status):\n",
    "\n",
    "    print( f'''\n",
    "    Order Statistics:\n",
    "    Total Products Ordered: {order_status[0]}\n",
    "    Percentage of Products Ordered: {order_status[1]}% \n",
    "    ''')\n",
    "\n",
    "def print_updated_inventory(inventory):\n",
    "\n",
    "    for product in inventory:\n",
    "        print(f\"{product}: {inventory[product]}\")\n",
    "\n",
    "\n",
    "inventory = initialize_inventory(products)\n",
    "customers_orders = get_customers_order()\n",
    "inventory = update_inventory(inventory, customers_orders)\n",
    "order_status = calculate_order_statistics(products, customers_orders)\n",
    "print_order_statistics(order_status)\n",
    "print_updated_inventory(inventory)"
   ]
  }
 ],
 "metadata": {
  "kernelspec": {
   "display_name": "Python 3 (ipykernel)",
   "language": "python",
   "name": "python3"
  },
  "language_info": {
   "codemirror_mode": {
    "name": "ipython",
    "version": 3
   },
   "file_extension": ".py",
   "mimetype": "text/x-python",
   "name": "python",
   "nbconvert_exporter": "python",
   "pygments_lexer": "ipython3",
   "version": "3.9.13"
  }
 },
 "nbformat": 4,
 "nbformat_minor": 5
}
